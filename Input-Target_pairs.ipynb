{
 "cells": [
  {
   "cell_type": "code",
   "execution_count": null,
   "id": "f06f6b35",
   "metadata": {},
   "outputs": [],
   "source": [
    "import re\n",
    "with open(\"Data/the-verdict.txt\", \"r\", encoding=\"utf-8\") as f:\n",
    "    raw_text = f.read()\n",
    "\n"
   ]
  },
  {
   "cell_type": "code",
   "execution_count": 8,
   "id": "f813d775",
   "metadata": {},
   "outputs": [],
   "source": [
    "class SimpleTokenizerV1:\n",
    "    def __init__(self, vocab):\n",
    "        self.str_to_int = vocab\n",
    "        self.int_to_str = {i:s for s,i in vocab.items()}\n",
    "    \n",
    "    def encode(self, text):\n",
    "        preprocessed = re.split(r'([,.:;?_!\"()\\']|--|\\s)', text)\n",
    "                                \n",
    "        preprocessed = [\n",
    "            item.strip() for item in preprocessed if item.strip()\n",
    "        ]\n",
    "        ids = [self.str_to_int[s] for s in preprocessed]\n",
    "        return ids\n",
    "        \n",
    "    def decode(self, ids):\n",
    "        text = \" \".join([self.int_to_str[i] for i in ids])\n",
    "        # Replace spaces before the specified punctuations\n",
    "        text = re.sub(r'\\s+([,.?!\"()\\'])', r'\\1', text)\n",
    "        return text"
   ]
  },
  {
   "cell_type": "code",
   "execution_count": 15,
   "id": "c3d02a57",
   "metadata": {},
   "outputs": [],
   "source": [
    "preprocessed = re.split(r'([,.:;?_!\"()\\']|--|\\s)', raw_text)\n",
    "preprocessed = [item.strip() for item in preprocessed if item.strip()]\n",
    "sorted_words = sorted(set(preprocessed))\n",
    "vocab = {token:integer for integer, token in enumerate(sorted_words)}\n",
    "tokenizer = SimpleTokenizerV1(vocab)\n"
   ]
  },
  {
   "cell_type": "code",
   "execution_count": 23,
   "id": "d0edaec4",
   "metadata": {},
   "outputs": [
    {
     "name": "stdout",
     "output_type": "stream",
     "text": [
      "Encoded text (ids):  [53, 44, 149, 1003, 57, 38, 818, 115, 256, 486]\n"
     ]
    }
   ],
   "source": [
    "enc_text = tokenizer.encode(raw_text)\n",
    "\n",
    "print(\"Encoded text (ids): \", enc_text[:10])"
   ]
  },
  {
   "cell_type": "code",
   "execution_count": 20,
   "id": "9f9489dd",
   "metadata": {},
   "outputs": [
    {
     "name": "stdout",
     "output_type": "stream",
     "text": [
      "Input text (ids):  [53, 44, 149, 1003, 57]\n",
      "Target text (ids):     [44, 149, 1003, 57, 38]\n"
     ]
    }
   ],
   "source": [
    "context_size = 5\n",
    "\n",
    "input_text = enc_text[:context_size]\n",
    "target_text = enc_text[1:context_size+1]\n",
    "\n",
    "print(\"Input text (ids): \", input_text)\n",
    "print(\"Target text (ids):    \", target_text)"
   ]
  },
  {
   "cell_type": "code",
   "execution_count": 66,
   "id": "0654eee7",
   "metadata": {},
   "outputs": [
    {
     "name": "stdout",
     "output_type": "stream",
     "text": [
      "Input text (ids):  [] -> 53\n",
      "Input text (ids):  [53] -> 44\n",
      "Input text (ids):  [53, 44] -> 149\n",
      "Input text (ids):  [53, 44, 149] -> 1003\n",
      "Input text (ids):  [53, 44, 149, 1003] -> 57\n",
      "Input text (ids):  [53, 44, 149, 1003, 57] -> 38\n",
      "Input text (ids):  [53, 44, 149, 1003, 57, 38] -> 818\n",
      "Input text (ids):  [53, 44, 149, 1003, 57, 38, 818] -> 115\n",
      "Input text (ids):  [53, 44, 149, 1003, 57, 38, 818, 115] -> 256\n",
      "Input text (ids):  [53, 44, 149, 1003, 57, 38, 818, 115, 256] -> 486\n",
      "Input text (ids):  [53, 44, 149, 1003, 57, 38, 818, 115, 256, 486] -> 6\n"
     ]
    }
   ],
   "source": [
    "for i in range (len(enc_text) - context_size):\n",
    "    input_text = enc_text[:i]\n",
    "    target_text = enc_text[i]\n",
    "    print(\"Input text (ids): \", input_text,\"->\", target_text)\n",
    "\n",
    "    if i == 10:\n",
    "        break\n",
    "\n"
   ]
  }
 ],
 "metadata": {
  "kernelspec": {
   "display_name": ".venv",
   "language": "python",
   "name": "python3"
  },
  "language_info": {
   "codemirror_mode": {
    "name": "ipython",
    "version": 3
   },
   "file_extension": ".py",
   "mimetype": "text/x-python",
   "name": "python",
   "nbconvert_exporter": "python",
   "pygments_lexer": "ipython3",
   "version": "3.13.5"
  }
 },
 "nbformat": 4,
 "nbformat_minor": 5
}

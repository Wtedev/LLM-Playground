{
 "cells": [
  {
   "cell_type": "code",
   "execution_count": 9,
   "id": "b3cb737d",
   "metadata": {},
   "outputs": [
    {
     "name": "stdout",
     "output_type": "stream",
     "text": [
      " Jack Gisburn rather a cheap genius--though a good fellow enough--so\n",
      "the data length is: 20479\n"
     ]
    }
   ],
   "source": [
    "# Load the text data\n",
    "with open(\"the-verdict.txt\",\"r\", encoding=\"utf-8\") as f:\n",
    "    raw_text = f.read()\n",
    "\n",
    "# show data statistics\n",
    "print(raw_text[20:88])\n",
    "print(\"the data length is:\", len(raw_text))\n",
    "\n"
   ]
  },
  {
   "cell_type": "code",
   "execution_count": null,
   "id": "6ff2a611",
   "metadata": {},
   "outputs": [
    {
     "name": "stdout",
     "output_type": "stream",
     "text": [
      "['Hello', ',', ' User', ',', \" I'm a text.\"]\n"
     ]
    }
   ],
   "source": [
    "# split the text based on white  spaces\n",
    "import re\n",
    "\n",
    "text = \"Hello, User, I'm a text.\"\n",
    "result = re.split(r'(\\s)', text)\n",
    "\n",
    "print(result)"
   ]
  }
 ],
 "metadata": {
  "kernelspec": {
   "display_name": ".venv",
   "language": "python",
   "name": "python3"
  },
  "language_info": {
   "codemirror_mode": {
    "name": "ipython",
    "version": 3
   },
   "file_extension": ".py",
   "mimetype": "text/x-python",
   "name": "python",
   "nbconvert_exporter": "python",
   "pygments_lexer": "ipython3",
   "version": "3.13.5"
  }
 },
 "nbformat": 4,
 "nbformat_minor": 5
}

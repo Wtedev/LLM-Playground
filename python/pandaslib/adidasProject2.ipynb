{
 "cells": [
  {
   "cell_type": "code",
   "execution_count": 509,
   "id": "57f923f3",
   "metadata": {},
   "outputs": [],
   "source": [
    "import pandas as pd"
   ]
  },
  {
   "cell_type": "markdown",
   "id": "a46c4c32",
   "metadata": {},
   "source": [
    "## Asking questions\n"
   ]
  },
  {
   "cell_type": "code",
   "execution_count": 510,
   "id": "f8b8e893",
   "metadata": {},
   "outputs": [],
   "source": [
    "# Top 10 sales operations.\n",
    "# Average of sales for every Region.\n",
    "# Average of sales for every product.\n",
    "# Average of price per unit for every product.\n",
    "# Count of each Product. --- IGNORE ---\n",
    "# Max of price per unit for every product.\n",
    "# Min of price per unit for every product.\n",
    "# Mean of sales\n",
    "# Mean of price for each unit of product in each region.\n",
    "# What is the top Product with total sales.\n",
    "# What is the last Product with total sales.\n",
    "# Which Sales Method is the most ?\n",
    "# Which Sales Method is the most at every region ?\n",
    "# How much products at every year?\n",
    "# What about Sales over years?\n",
    "# What about Sales over months?\n",
    "# Which Retailer is the most ?\n"
   ]
  },
  {
   "cell_type": "code",
   "execution_count": 511,
   "id": "23175aad",
   "metadata": {},
   "outputs": [
    {
     "data": {
      "text/html": [
       "<div>\n",
       "<style scoped>\n",
       "    .dataframe tbody tr th:only-of-type {\n",
       "        vertical-align: middle;\n",
       "    }\n",
       "\n",
       "    .dataframe tbody tr th {\n",
       "        vertical-align: top;\n",
       "    }\n",
       "\n",
       "    .dataframe thead th {\n",
       "        text-align: right;\n",
       "    }\n",
       "</style>\n",
       "<table border=\"1\" class=\"dataframe\">\n",
       "  <thead>\n",
       "    <tr style=\"text-align: right;\">\n",
       "      <th></th>\n",
       "      <th>Retailer</th>\n",
       "      <th>Retailer ID</th>\n",
       "      <th>Invoice Date</th>\n",
       "      <th>Region</th>\n",
       "      <th>State</th>\n",
       "      <th>City</th>\n",
       "      <th>Product</th>\n",
       "      <th>Price per Unit</th>\n",
       "      <th>Units Sold</th>\n",
       "      <th>Total Sales</th>\n",
       "      <th>Operating Profit</th>\n",
       "      <th>Sales Method</th>\n",
       "    </tr>\n",
       "  </thead>\n",
       "  <tbody>\n",
       "    <tr>\n",
       "      <th>0</th>\n",
       "      <td>Walmart</td>\n",
       "      <td>1128299</td>\n",
       "      <td>6/17/2021</td>\n",
       "      <td>Southeast</td>\n",
       "      <td>Florida</td>\n",
       "      <td>Orlando</td>\n",
       "      <td>Women's Apparel</td>\n",
       "      <td>$103.00</td>\n",
       "      <td>218</td>\n",
       "      <td>2,245</td>\n",
       "      <td>$1,257</td>\n",
       "      <td>Online</td>\n",
       "    </tr>\n",
       "    <tr>\n",
       "      <th>1</th>\n",
       "      <td>West Gear</td>\n",
       "      <td>1128299</td>\n",
       "      <td>7/16/2021</td>\n",
       "      <td>South</td>\n",
       "      <td>Louisiana</td>\n",
       "      <td>New Orleans</td>\n",
       "      <td>Women's Apparel</td>\n",
       "      <td>$103.00</td>\n",
       "      <td>163</td>\n",
       "      <td>1,679</td>\n",
       "      <td>$806</td>\n",
       "      <td>Online</td>\n",
       "    </tr>\n",
       "    <tr>\n",
       "      <th>2</th>\n",
       "      <td>Sports Direct</td>\n",
       "      <td>1197831</td>\n",
       "      <td>8/25/2021</td>\n",
       "      <td>South</td>\n",
       "      <td>Alabama</td>\n",
       "      <td>Birmingham</td>\n",
       "      <td>Men's Street Footwear</td>\n",
       "      <td>$10.00</td>\n",
       "      <td>700</td>\n",
       "      <td>7,000</td>\n",
       "      <td>$3,150</td>\n",
       "      <td>Outlet</td>\n",
       "    </tr>\n",
       "    <tr>\n",
       "      <th>3</th>\n",
       "      <td>Sports Direct</td>\n",
       "      <td>1197831</td>\n",
       "      <td>8/27/2021</td>\n",
       "      <td>South</td>\n",
       "      <td>Alabama</td>\n",
       "      <td>Birmingham</td>\n",
       "      <td>Women's Street Footwear</td>\n",
       "      <td>$15.00</td>\n",
       "      <td>575</td>\n",
       "      <td>8,625</td>\n",
       "      <td>$3,881</td>\n",
       "      <td>Outlet</td>\n",
       "    </tr>\n",
       "    <tr>\n",
       "      <th>4</th>\n",
       "      <td>Sports Direct</td>\n",
       "      <td>1197831</td>\n",
       "      <td>8/21/2021</td>\n",
       "      <td>South</td>\n",
       "      <td>Alabama</td>\n",
       "      <td>Birmingham</td>\n",
       "      <td>Women's Street Footwear</td>\n",
       "      <td>$15.00</td>\n",
       "      <td>475</td>\n",
       "      <td>7,125</td>\n",
       "      <td>$3,206</td>\n",
       "      <td>Outlet</td>\n",
       "    </tr>\n",
       "  </tbody>\n",
       "</table>\n",
       "</div>"
      ],
      "text/plain": [
       "        Retailer  Retailer ID Invoice Date     Region      State         City  \\\n",
       "0        Walmart      1128299    6/17/2021  Southeast    Florida      Orlando   \n",
       "1      West Gear      1128299    7/16/2021      South  Louisiana  New Orleans   \n",
       "2  Sports Direct      1197831    8/25/2021      South    Alabama   Birmingham   \n",
       "3  Sports Direct      1197831    8/27/2021      South    Alabama   Birmingham   \n",
       "4  Sports Direct      1197831    8/21/2021      South    Alabama   Birmingham   \n",
       "\n",
       "                   Product Price per Unit Units Sold Total Sales  \\\n",
       "0          Women's Apparel       $103.00         218       2,245   \n",
       "1          Women's Apparel       $103.00         163       1,679   \n",
       "2    Men's Street Footwear        $10.00         700       7,000   \n",
       "3  Women's Street Footwear        $15.00         575       8,625   \n",
       "4  Women's Street Footwear        $15.00         475       7,125   \n",
       "\n",
       "  Operating Profit Sales Method  \n",
       "0          $1,257        Online  \n",
       "1            $806        Online  \n",
       "2          $3,150        Outlet  \n",
       "3          $3,881        Outlet  \n",
       "4          $3,206        Outlet  "
      ]
     },
     "execution_count": 511,
     "metadata": {},
     "output_type": "execute_result"
    }
   ],
   "source": [
    "data = pd.read_csv('../../Data/data_sales.csv')\n",
    "df = pd.DataFrame(data)\n",
    "df.head(5)"
   ]
  },
  {
   "cell_type": "code",
   "execution_count": 512,
   "id": "599f71ee",
   "metadata": {},
   "outputs": [
    {
     "name": "stdout",
     "output_type": "stream",
     "text": [
      "<class 'pandas.core.frame.DataFrame'>\n",
      "RangeIndex: 9641 entries, 0 to 9640\n",
      "Data columns (total 12 columns):\n",
      " #   Column            Non-Null Count  Dtype \n",
      "---  ------            --------------  ----- \n",
      " 0   Retailer          9641 non-null   object\n",
      " 1   Retailer ID       9641 non-null   int64 \n",
      " 2   Invoice Date      9641 non-null   object\n",
      " 3   Region            9641 non-null   object\n",
      " 4   State             9641 non-null   object\n",
      " 5   City              9641 non-null   object\n",
      " 6   Product           9641 non-null   object\n",
      " 7   Price per Unit    9639 non-null   object\n",
      " 8   Units Sold        9641 non-null   object\n",
      " 9   Total Sales       9641 non-null   object\n",
      " 10  Operating Profit  9641 non-null   object\n",
      " 11  Sales Method      9641 non-null   object\n",
      "dtypes: int64(1), object(11)\n",
      "memory usage: 904.0+ KB\n"
     ]
    }
   ],
   "source": [
    "df.info()"
   ]
  },
  {
   "cell_type": "markdown",
   "id": "9fe238b4",
   "metadata": {},
   "source": [
    "### Cleaning Data\n",
    "---"
   ]
  },
  {
   "cell_type": "code",
   "execution_count": 513,
   "id": "5f7b684d",
   "metadata": {},
   "outputs": [
    {
     "name": "stdout",
     "output_type": "stream",
     "text": [
      "<class 'pandas.core.frame.DataFrame'>\n",
      "RangeIndex: 9641 entries, 0 to 9640\n",
      "Data columns (total 12 columns):\n",
      " #   Column            Non-Null Count  Dtype         \n",
      "---  ------            --------------  -----         \n",
      " 0   Retailer          9641 non-null   object        \n",
      " 1   Retailer ID       9641 non-null   int64         \n",
      " 2   Invoice Date      9641 non-null   datetime64[ns]\n",
      " 3   Region            9641 non-null   object        \n",
      " 4   State             9641 non-null   object        \n",
      " 5   City              9641 non-null   object        \n",
      " 6   Product           9641 non-null   object        \n",
      " 7   Price per Unit    9639 non-null   float64       \n",
      " 8   Units Sold        9588 non-null   float64       \n",
      " 9   Total Sales       9641 non-null   float64       \n",
      " 10  Operating Profit  9641 non-null   float64       \n",
      " 11  Sales Method      9641 non-null   object        \n",
      "dtypes: datetime64[ns](1), float64(4), int64(1), object(6)\n",
      "memory usage: 904.0+ KB\n"
     ]
    },
    {
     "data": {
      "text/html": [
       "<div>\n",
       "<style scoped>\n",
       "    .dataframe tbody tr th:only-of-type {\n",
       "        vertical-align: middle;\n",
       "    }\n",
       "\n",
       "    .dataframe tbody tr th {\n",
       "        vertical-align: top;\n",
       "    }\n",
       "\n",
       "    .dataframe thead th {\n",
       "        text-align: right;\n",
       "    }\n",
       "</style>\n",
       "<table border=\"1\" class=\"dataframe\">\n",
       "  <thead>\n",
       "    <tr style=\"text-align: right;\">\n",
       "      <th></th>\n",
       "      <th>Retailer</th>\n",
       "      <th>Retailer ID</th>\n",
       "      <th>Invoice Date</th>\n",
       "      <th>Region</th>\n",
       "      <th>State</th>\n",
       "      <th>City</th>\n",
       "      <th>Product</th>\n",
       "      <th>Price per Unit</th>\n",
       "      <th>Units Sold</th>\n",
       "      <th>Total Sales</th>\n",
       "      <th>Operating Profit</th>\n",
       "      <th>Sales Method</th>\n",
       "    </tr>\n",
       "  </thead>\n",
       "  <tbody>\n",
       "    <tr>\n",
       "      <th>0</th>\n",
       "      <td>Walmart</td>\n",
       "      <td>1128299</td>\n",
       "      <td>2021-06-17</td>\n",
       "      <td>Southeast</td>\n",
       "      <td>Florida</td>\n",
       "      <td>Orlando</td>\n",
       "      <td>Women's Apparel</td>\n",
       "      <td>103.0</td>\n",
       "      <td>218.0</td>\n",
       "      <td>2245.0</td>\n",
       "      <td>1257.0</td>\n",
       "      <td>Online</td>\n",
       "    </tr>\n",
       "    <tr>\n",
       "      <th>1</th>\n",
       "      <td>West Gear</td>\n",
       "      <td>1128299</td>\n",
       "      <td>2021-07-16</td>\n",
       "      <td>South</td>\n",
       "      <td>Louisiana</td>\n",
       "      <td>New Orleans</td>\n",
       "      <td>Women's Apparel</td>\n",
       "      <td>103.0</td>\n",
       "      <td>163.0</td>\n",
       "      <td>1679.0</td>\n",
       "      <td>806.0</td>\n",
       "      <td>Online</td>\n",
       "    </tr>\n",
       "    <tr>\n",
       "      <th>2</th>\n",
       "      <td>Sports Direct</td>\n",
       "      <td>1197831</td>\n",
       "      <td>2021-08-25</td>\n",
       "      <td>South</td>\n",
       "      <td>Alabama</td>\n",
       "      <td>Birmingham</td>\n",
       "      <td>Men's Street Footwear</td>\n",
       "      <td>10.0</td>\n",
       "      <td>700.0</td>\n",
       "      <td>7000.0</td>\n",
       "      <td>3150.0</td>\n",
       "      <td>Outlet</td>\n",
       "    </tr>\n",
       "    <tr>\n",
       "      <th>3</th>\n",
       "      <td>Sports Direct</td>\n",
       "      <td>1197831</td>\n",
       "      <td>2021-08-27</td>\n",
       "      <td>South</td>\n",
       "      <td>Alabama</td>\n",
       "      <td>Birmingham</td>\n",
       "      <td>Women's Street Footwear</td>\n",
       "      <td>15.0</td>\n",
       "      <td>575.0</td>\n",
       "      <td>8625.0</td>\n",
       "      <td>3881.0</td>\n",
       "      <td>Outlet</td>\n",
       "    </tr>\n",
       "    <tr>\n",
       "      <th>4</th>\n",
       "      <td>Sports Direct</td>\n",
       "      <td>1197831</td>\n",
       "      <td>2021-08-21</td>\n",
       "      <td>South</td>\n",
       "      <td>Alabama</td>\n",
       "      <td>Birmingham</td>\n",
       "      <td>Women's Street Footwear</td>\n",
       "      <td>15.0</td>\n",
       "      <td>475.0</td>\n",
       "      <td>7125.0</td>\n",
       "      <td>3206.0</td>\n",
       "      <td>Outlet</td>\n",
       "    </tr>\n",
       "  </tbody>\n",
       "</table>\n",
       "</div>"
      ],
      "text/plain": [
       "        Retailer  Retailer ID Invoice Date     Region      State         City  \\\n",
       "0        Walmart      1128299   2021-06-17  Southeast    Florida      Orlando   \n",
       "1      West Gear      1128299   2021-07-16      South  Louisiana  New Orleans   \n",
       "2  Sports Direct      1197831   2021-08-25      South    Alabama   Birmingham   \n",
       "3  Sports Direct      1197831   2021-08-27      South    Alabama   Birmingham   \n",
       "4  Sports Direct      1197831   2021-08-21      South    Alabama   Birmingham   \n",
       "\n",
       "                   Product  Price per Unit  Units Sold  Total Sales  \\\n",
       "0          Women's Apparel           103.0       218.0       2245.0   \n",
       "1          Women's Apparel           103.0       163.0       1679.0   \n",
       "2    Men's Street Footwear            10.0       700.0       7000.0   \n",
       "3  Women's Street Footwear            15.0       575.0       8625.0   \n",
       "4  Women's Street Footwear            15.0       475.0       7125.0   \n",
       "\n",
       "   Operating Profit Sales Method  \n",
       "0            1257.0       Online  \n",
       "1             806.0       Online  \n",
       "2            3150.0       Outlet  \n",
       "3            3881.0       Outlet  \n",
       "4            3206.0       Outlet  "
      ]
     },
     "execution_count": 513,
     "metadata": {},
     "output_type": "execute_result"
    }
   ],
   "source": [
    "df['Invoice Date'] = pd.to_datetime(df['Invoice Date'])\n",
    "df['Price per Unit'] =df['Price per Unit'].str.replace('$','').astype(float)\n",
    "df['Units Sold'] = pd.to_numeric(df['Units Sold'], errors='coerce')\n",
    "df['Total Sales'] =df['Total Sales'].str.replace(',','').astype(float)\n",
    "df['Operating Profit'] =df['Operating Profit'].str.replace('$','').str.replace(',','').astype(float)\n",
    "\n",
    "\n",
    "df.info()\n",
    "df.head(5)"
   ]
  },
  {
   "cell_type": "code",
   "execution_count": 514,
   "id": "57e7048f",
   "metadata": {},
   "outputs": [
    {
     "data": {
      "text/plain": [
       "array([2021, 2020], dtype=int32)"
      ]
     },
     "execution_count": 514,
     "metadata": {},
     "output_type": "execute_result"
    }
   ],
   "source": [
    "df['year'] = df['Invoice Date'].dt.year\n",
    "df['month'] = df['Invoice Date'].dt.month\n",
    "df['day'] = df['Invoice Date'].dt.day\n",
    "df.drop('Invoice Date', axis=1, inplace=True)\n",
    "df['year'].unique()"
   ]
  },
  {
   "cell_type": "code",
   "execution_count": 515,
   "id": "651250d1",
   "metadata": {},
   "outputs": [],
   "source": [
    "df['order_ID'] = range(1, len(df) + 1)\n"
   ]
  },
  {
   "cell_type": "code",
   "execution_count": 516,
   "id": "f03dc4df",
   "metadata": {},
   "outputs": [
    {
     "data": {
      "text/plain": [
       "Retailer             0\n",
       "Retailer ID          0\n",
       "Region               0\n",
       "State                0\n",
       "City                 0\n",
       "Product              0\n",
       "Price per Unit       2\n",
       "Units Sold          53\n",
       "Total Sales          0\n",
       "Operating Profit     0\n",
       "Sales Method         0\n",
       "year                 0\n",
       "month                0\n",
       "day                  0\n",
       "order_ID             0\n",
       "dtype: int64"
      ]
     },
     "execution_count": 516,
     "metadata": {},
     "output_type": "execute_result"
    }
   ],
   "source": [
    "df.isna().sum()"
   ]
  },
  {
   "cell_type": "code",
   "execution_count": 517,
   "id": "5e89a8c7",
   "metadata": {},
   "outputs": [
    {
     "data": {
      "text/html": [
       "<div>\n",
       "<style scoped>\n",
       "    .dataframe tbody tr th:only-of-type {\n",
       "        vertical-align: middle;\n",
       "    }\n",
       "\n",
       "    .dataframe tbody tr th {\n",
       "        vertical-align: top;\n",
       "    }\n",
       "\n",
       "    .dataframe thead th {\n",
       "        text-align: right;\n",
       "    }\n",
       "</style>\n",
       "<table border=\"1\" class=\"dataframe\">\n",
       "  <thead>\n",
       "    <tr style=\"text-align: right;\">\n",
       "      <th></th>\n",
       "      <th>Retailer</th>\n",
       "      <th>Retailer ID</th>\n",
       "      <th>Region</th>\n",
       "      <th>State</th>\n",
       "      <th>City</th>\n",
       "      <th>Product</th>\n",
       "      <th>Price per Unit</th>\n",
       "      <th>Units Sold</th>\n",
       "      <th>Total Sales</th>\n",
       "      <th>Operating Profit</th>\n",
       "      <th>Sales Method</th>\n",
       "      <th>year</th>\n",
       "      <th>month</th>\n",
       "      <th>day</th>\n",
       "      <th>order_ID</th>\n",
       "    </tr>\n",
       "  </thead>\n",
       "  <tbody>\n",
       "    <tr>\n",
       "      <th>6534</th>\n",
       "      <td>Foot Locker</td>\n",
       "      <td>1185732</td>\n",
       "      <td>Northeast</td>\n",
       "      <td>New York</td>\n",
       "      <td>New York</td>\n",
       "      <td>Men's Street Footwear</td>\n",
       "      <td>60.0</td>\n",
       "      <td>NaN</td>\n",
       "      <td>76500.0</td>\n",
       "      <td>38250.0</td>\n",
       "      <td>Outlet</td>\n",
       "      <td>2020</td>\n",
       "      <td>3</td>\n",
       "      <td>10</td>\n",
       "      <td>6535</td>\n",
       "    </tr>\n",
       "    <tr>\n",
       "      <th>6535</th>\n",
       "      <td>Foot Locker</td>\n",
       "      <td>1185732</td>\n",
       "      <td>Northeast</td>\n",
       "      <td>New York</td>\n",
       "      <td>New York</td>\n",
       "      <td>Men's Street Footwear</td>\n",
       "      <td>60.0</td>\n",
       "      <td>NaN</td>\n",
       "      <td>75000.0</td>\n",
       "      <td>37500.0</td>\n",
       "      <td>Outlet</td>\n",
       "      <td>2020</td>\n",
       "      <td>3</td>\n",
       "      <td>4</td>\n",
       "      <td>6536</td>\n",
       "    </tr>\n",
       "    <tr>\n",
       "      <th>6536</th>\n",
       "      <td>Foot Locker</td>\n",
       "      <td>1185732</td>\n",
       "      <td>Northeast</td>\n",
       "      <td>New York</td>\n",
       "      <td>New York</td>\n",
       "      <td>Men's Street Footwear</td>\n",
       "      <td>60.0</td>\n",
       "      <td>NaN</td>\n",
       "      <td>75000.0</td>\n",
       "      <td>37500.0</td>\n",
       "      <td>Outlet</td>\n",
       "      <td>2020</td>\n",
       "      <td>3</td>\n",
       "      <td>16</td>\n",
       "      <td>6537</td>\n",
       "    </tr>\n",
       "    <tr>\n",
       "      <th>6537</th>\n",
       "      <td>Foot Locker</td>\n",
       "      <td>1185732</td>\n",
       "      <td>Northeast</td>\n",
       "      <td>New York</td>\n",
       "      <td>New York</td>\n",
       "      <td>Men's Street Footwear</td>\n",
       "      <td>60.0</td>\n",
       "      <td>NaN</td>\n",
       "      <td>73200.0</td>\n",
       "      <td>36600.0</td>\n",
       "      <td>Outlet</td>\n",
       "      <td>2020</td>\n",
       "      <td>2</td>\n",
       "      <td>6</td>\n",
       "      <td>6538</td>\n",
       "    </tr>\n",
       "    <tr>\n",
       "      <th>6538</th>\n",
       "      <td>Walmart</td>\n",
       "      <td>1185732</td>\n",
       "      <td>Northeast</td>\n",
       "      <td>New York</td>\n",
       "      <td>New York</td>\n",
       "      <td>Men's Street Footwear</td>\n",
       "      <td>60.0</td>\n",
       "      <td>NaN</td>\n",
       "      <td>72000.0</td>\n",
       "      <td>36000.0</td>\n",
       "      <td>Outlet</td>\n",
       "      <td>2020</td>\n",
       "      <td>4</td>\n",
       "      <td>19</td>\n",
       "      <td>6539</td>\n",
       "    </tr>\n",
       "  </tbody>\n",
       "</table>\n",
       "</div>"
      ],
      "text/plain": [
       "         Retailer  Retailer ID     Region     State      City  \\\n",
       "6534  Foot Locker      1185732  Northeast  New York  New York   \n",
       "6535  Foot Locker      1185732  Northeast  New York  New York   \n",
       "6536  Foot Locker      1185732  Northeast  New York  New York   \n",
       "6537  Foot Locker      1185732  Northeast  New York  New York   \n",
       "6538      Walmart      1185732  Northeast  New York  New York   \n",
       "\n",
       "                    Product  Price per Unit  Units Sold  Total Sales  \\\n",
       "6534  Men's Street Footwear            60.0         NaN      76500.0   \n",
       "6535  Men's Street Footwear            60.0         NaN      75000.0   \n",
       "6536  Men's Street Footwear            60.0         NaN      75000.0   \n",
       "6537  Men's Street Footwear            60.0         NaN      73200.0   \n",
       "6538  Men's Street Footwear            60.0         NaN      72000.0   \n",
       "\n",
       "      Operating Profit Sales Method  year  month  day  order_ID  \n",
       "6534           38250.0       Outlet  2020      3   10      6535  \n",
       "6535           37500.0       Outlet  2020      3    4      6536  \n",
       "6536           37500.0       Outlet  2020      3   16      6537  \n",
       "6537           36600.0       Outlet  2020      2    6      6538  \n",
       "6538           36000.0       Outlet  2020      4   19      6539  "
      ]
     },
     "execution_count": 517,
     "metadata": {},
     "output_type": "execute_result"
    }
   ],
   "source": [
    "df[df['Units Sold'].isna()].head(5)\n"
   ]
  },
  {
   "cell_type": "code",
   "execution_count": 518,
   "id": "3b0e443c",
   "metadata": {},
   "outputs": [
    {
     "name": "stderr",
     "output_type": "stream",
     "text": [
      "/var/folders/qh/4z_7kwfn395g3wdjj2kzwm600000gn/T/ipykernel_72221/2130179621.py:1: FutureWarning: A value is trying to be set on a copy of a DataFrame or Series through chained assignment using an inplace method.\n",
      "The behavior will change in pandas 3.0. This inplace method will never work because the intermediate object on which we are setting values always behaves as a copy.\n",
      "\n",
      "For example, when doing 'df[col].method(value, inplace=True)', try using 'df.method({col: value}, inplace=True)' or df[col] = df[col].method(value) instead, to perform the operation inplace on the original object.\n",
      "\n",
      "\n",
      "  df['Units Sold'].fillna(df['Total Sales']/df['Price per Unit'], inplace=True)\n"
     ]
    },
    {
     "data": {
      "text/html": [
       "<div>\n",
       "<style scoped>\n",
       "    .dataframe tbody tr th:only-of-type {\n",
       "        vertical-align: middle;\n",
       "    }\n",
       "\n",
       "    .dataframe tbody tr th {\n",
       "        vertical-align: top;\n",
       "    }\n",
       "\n",
       "    .dataframe thead th {\n",
       "        text-align: right;\n",
       "    }\n",
       "</style>\n",
       "<table border=\"1\" class=\"dataframe\">\n",
       "  <thead>\n",
       "    <tr style=\"text-align: right;\">\n",
       "      <th></th>\n",
       "      <th>Retailer</th>\n",
       "      <th>Retailer ID</th>\n",
       "      <th>Region</th>\n",
       "      <th>State</th>\n",
       "      <th>City</th>\n",
       "      <th>Product</th>\n",
       "      <th>Price per Unit</th>\n",
       "      <th>Units Sold</th>\n",
       "      <th>Total Sales</th>\n",
       "      <th>Operating Profit</th>\n",
       "      <th>Sales Method</th>\n",
       "      <th>year</th>\n",
       "      <th>month</th>\n",
       "      <th>day</th>\n",
       "      <th>order_ID</th>\n",
       "    </tr>\n",
       "  </thead>\n",
       "  <tbody>\n",
       "    <tr>\n",
       "      <th>6534</th>\n",
       "      <td>Foot Locker</td>\n",
       "      <td>1185732</td>\n",
       "      <td>Northeast</td>\n",
       "      <td>New York</td>\n",
       "      <td>New York</td>\n",
       "      <td>Men's Street Footwear</td>\n",
       "      <td>60.0</td>\n",
       "      <td>1275.0</td>\n",
       "      <td>76500.0</td>\n",
       "      <td>38250.0</td>\n",
       "      <td>Outlet</td>\n",
       "      <td>2020</td>\n",
       "      <td>3</td>\n",
       "      <td>10</td>\n",
       "      <td>6535</td>\n",
       "    </tr>\n",
       "  </tbody>\n",
       "</table>\n",
       "</div>"
      ],
      "text/plain": [
       "         Retailer  Retailer ID     Region     State      City  \\\n",
       "6534  Foot Locker      1185732  Northeast  New York  New York   \n",
       "\n",
       "                    Product  Price per Unit  Units Sold  Total Sales  \\\n",
       "6534  Men's Street Footwear            60.0      1275.0      76500.0   \n",
       "\n",
       "      Operating Profit Sales Method  year  month  day  order_ID  \n",
       "6534           38250.0       Outlet  2020      3   10      6535  "
      ]
     },
     "execution_count": 518,
     "metadata": {},
     "output_type": "execute_result"
    }
   ],
   "source": [
    "df['Units Sold'].fillna(df['Total Sales']/df['Price per Unit'], inplace=True)\n",
    "df[df['order_ID'] == 6535]"
   ]
  },
  {
   "cell_type": "code",
   "execution_count": 519,
   "id": "2e0ed7b9",
   "metadata": {},
   "outputs": [
    {
     "data": {
      "text/html": [
       "<div>\n",
       "<style scoped>\n",
       "    .dataframe tbody tr th:only-of-type {\n",
       "        vertical-align: middle;\n",
       "    }\n",
       "\n",
       "    .dataframe tbody tr th {\n",
       "        vertical-align: top;\n",
       "    }\n",
       "\n",
       "    .dataframe thead th {\n",
       "        text-align: right;\n",
       "    }\n",
       "</style>\n",
       "<table border=\"1\" class=\"dataframe\">\n",
       "  <thead>\n",
       "    <tr style=\"text-align: right;\">\n",
       "      <th></th>\n",
       "      <th>Retailer</th>\n",
       "      <th>Retailer ID</th>\n",
       "      <th>Region</th>\n",
       "      <th>State</th>\n",
       "      <th>City</th>\n",
       "      <th>Product</th>\n",
       "      <th>Price per Unit</th>\n",
       "      <th>Units Sold</th>\n",
       "      <th>Total Sales</th>\n",
       "      <th>Operating Profit</th>\n",
       "      <th>Sales Method</th>\n",
       "      <th>year</th>\n",
       "      <th>month</th>\n",
       "      <th>day</th>\n",
       "      <th>order_ID</th>\n",
       "    </tr>\n",
       "  </thead>\n",
       "  <tbody>\n",
       "    <tr>\n",
       "      <th>6725</th>\n",
       "      <td>Foot Locker</td>\n",
       "      <td>1185732</td>\n",
       "      <td>Northeast</td>\n",
       "      <td>New York</td>\n",
       "      <td>New York</td>\n",
       "      <td>Men's Apparel</td>\n",
       "      <td>NaN</td>\n",
       "      <td>850.0</td>\n",
       "      <td>51000.0</td>\n",
       "      <td>15300.0</td>\n",
       "      <td>Outlet</td>\n",
       "      <td>2020</td>\n",
       "      <td>1</td>\n",
       "      <td>29</td>\n",
       "      <td>6726</td>\n",
       "    </tr>\n",
       "    <tr>\n",
       "      <th>7882</th>\n",
       "      <td>Sports Direct</td>\n",
       "      <td>1197831</td>\n",
       "      <td>South</td>\n",
       "      <td>Texas</td>\n",
       "      <td>Houston</td>\n",
       "      <td>Men's Apparel</td>\n",
       "      <td>NaN</td>\n",
       "      <td>500.0</td>\n",
       "      <td>20000.0</td>\n",
       "      <td>6000.0</td>\n",
       "      <td>Outlet</td>\n",
       "      <td>2020</td>\n",
       "      <td>7</td>\n",
       "      <td>29</td>\n",
       "      <td>7883</td>\n",
       "    </tr>\n",
       "  </tbody>\n",
       "</table>\n",
       "</div>"
      ],
      "text/plain": [
       "           Retailer  Retailer ID     Region     State      City  \\\n",
       "6725    Foot Locker      1185732  Northeast  New York  New York   \n",
       "7882  Sports Direct      1197831      South     Texas   Houston   \n",
       "\n",
       "            Product  Price per Unit  Units Sold  Total Sales  \\\n",
       "6725  Men's Apparel             NaN       850.0      51000.0   \n",
       "7882  Men's Apparel             NaN       500.0      20000.0   \n",
       "\n",
       "      Operating Profit Sales Method  year  month  day  order_ID  \n",
       "6725           15300.0       Outlet  2020      1   29      6726  \n",
       "7882            6000.0       Outlet  2020      7   29      7883  "
      ]
     },
     "execution_count": 519,
     "metadata": {},
     "output_type": "execute_result"
    }
   ],
   "source": [
    "df[df['Price per Unit'].isna()]\n",
    "\n"
   ]
  },
  {
   "cell_type": "code",
   "execution_count": 520,
   "id": "bdde359d",
   "metadata": {},
   "outputs": [
    {
     "name": "stderr",
     "output_type": "stream",
     "text": [
      "/var/folders/qh/4z_7kwfn395g3wdjj2kzwm600000gn/T/ipykernel_72221/1342037944.py:1: FutureWarning: A value is trying to be set on a copy of a DataFrame or Series through chained assignment using an inplace method.\n",
      "The behavior will change in pandas 3.0. This inplace method will never work because the intermediate object on which we are setting values always behaves as a copy.\n",
      "\n",
      "For example, when doing 'df[col].method(value, inplace=True)', try using 'df.method({col: value}, inplace=True)' or df[col] = df[col].method(value) instead, to perform the operation inplace on the original object.\n",
      "\n",
      "\n",
      "  df['Price per Unit'].fillna(df['Total Sales']/df['Units Sold'], inplace=True)\n"
     ]
    },
    {
     "data": {
      "text/html": [
       "<div>\n",
       "<style scoped>\n",
       "    .dataframe tbody tr th:only-of-type {\n",
       "        vertical-align: middle;\n",
       "    }\n",
       "\n",
       "    .dataframe tbody tr th {\n",
       "        vertical-align: top;\n",
       "    }\n",
       "\n",
       "    .dataframe thead th {\n",
       "        text-align: right;\n",
       "    }\n",
       "</style>\n",
       "<table border=\"1\" class=\"dataframe\">\n",
       "  <thead>\n",
       "    <tr style=\"text-align: right;\">\n",
       "      <th></th>\n",
       "      <th>Retailer</th>\n",
       "      <th>Retailer ID</th>\n",
       "      <th>Region</th>\n",
       "      <th>State</th>\n",
       "      <th>City</th>\n",
       "      <th>Product</th>\n",
       "      <th>Price per Unit</th>\n",
       "      <th>Units Sold</th>\n",
       "      <th>Total Sales</th>\n",
       "      <th>Operating Profit</th>\n",
       "      <th>Sales Method</th>\n",
       "      <th>year</th>\n",
       "      <th>month</th>\n",
       "      <th>day</th>\n",
       "      <th>order_ID</th>\n",
       "    </tr>\n",
       "  </thead>\n",
       "  <tbody>\n",
       "    <tr>\n",
       "      <th>6725</th>\n",
       "      <td>Foot Locker</td>\n",
       "      <td>1185732</td>\n",
       "      <td>Northeast</td>\n",
       "      <td>New York</td>\n",
       "      <td>New York</td>\n",
       "      <td>Men's Apparel</td>\n",
       "      <td>60.0</td>\n",
       "      <td>850.0</td>\n",
       "      <td>51000.0</td>\n",
       "      <td>15300.0</td>\n",
       "      <td>Outlet</td>\n",
       "      <td>2020</td>\n",
       "      <td>1</td>\n",
       "      <td>29</td>\n",
       "      <td>6726</td>\n",
       "    </tr>\n",
       "  </tbody>\n",
       "</table>\n",
       "</div>"
      ],
      "text/plain": [
       "         Retailer  Retailer ID     Region     State      City        Product  \\\n",
       "6725  Foot Locker      1185732  Northeast  New York  New York  Men's Apparel   \n",
       "\n",
       "      Price per Unit  Units Sold  Total Sales  Operating Profit Sales Method  \\\n",
       "6725            60.0       850.0      51000.0           15300.0       Outlet   \n",
       "\n",
       "      year  month  day  order_ID  \n",
       "6725  2020      1   29      6726  "
      ]
     },
     "execution_count": 520,
     "metadata": {},
     "output_type": "execute_result"
    }
   ],
   "source": [
    "df['Price per Unit'].fillna(df['Total Sales']/df['Units Sold'], inplace=True)\n",
    "df[df['order_ID'] == 6726]\n"
   ]
  },
  {
   "cell_type": "code",
   "execution_count": 521,
   "id": "678b0b55",
   "metadata": {},
   "outputs": [
    {
     "data": {
      "text/plain": [
       "Retailer            0\n",
       "Retailer ID         0\n",
       "Region              0\n",
       "State               0\n",
       "City                0\n",
       "Product             0\n",
       "Price per Unit      0\n",
       "Units Sold          0\n",
       "Total Sales         0\n",
       "Operating Profit    0\n",
       "Sales Method        0\n",
       "year                0\n",
       "month               0\n",
       "day                 0\n",
       "order_ID            0\n",
       "dtype: int64"
      ]
     },
     "execution_count": 521,
     "metadata": {},
     "output_type": "execute_result"
    }
   ],
   "source": [
    "df.isna().sum()"
   ]
  },
  {
   "cell_type": "markdown",
   "id": "14f3e602",
   "metadata": {},
   "source": [
    "##### Cleaning Data is done <3!\n",
    "---\n",
    "---\n",
    "### Questions answers\n",
    "---"
   ]
  },
  {
   "cell_type": "code",
   "execution_count": 522,
   "id": "4b4c31c0",
   "metadata": {},
   "outputs": [
    {
     "data": {
      "text/html": [
       "<div>\n",
       "<style scoped>\n",
       "    .dataframe tbody tr th:only-of-type {\n",
       "        vertical-align: middle;\n",
       "    }\n",
       "\n",
       "    .dataframe tbody tr th {\n",
       "        vertical-align: top;\n",
       "    }\n",
       "\n",
       "    .dataframe thead th {\n",
       "        text-align: right;\n",
       "    }\n",
       "</style>\n",
       "<table border=\"1\" class=\"dataframe\">\n",
       "  <thead>\n",
       "    <tr style=\"text-align: right;\">\n",
       "      <th></th>\n",
       "      <th>Retailer</th>\n",
       "      <th>Retailer ID</th>\n",
       "      <th>Region</th>\n",
       "      <th>State</th>\n",
       "      <th>City</th>\n",
       "      <th>Product</th>\n",
       "      <th>Price per Unit</th>\n",
       "      <th>Units Sold</th>\n",
       "      <th>Total Sales</th>\n",
       "      <th>Operating Profit</th>\n",
       "      <th>Sales Method</th>\n",
       "      <th>year</th>\n",
       "      <th>month</th>\n",
       "      <th>day</th>\n",
       "      <th>order_ID</th>\n",
       "    </tr>\n",
       "  </thead>\n",
       "  <tbody>\n",
       "    <tr>\n",
       "      <th>6533</th>\n",
       "      <td>Walmart</td>\n",
       "      <td>1128299</td>\n",
       "      <td>Southeast</td>\n",
       "      <td>Florida</td>\n",
       "      <td>Orlando</td>\n",
       "      <td>Women's Apparel</td>\n",
       "      <td>110.0</td>\n",
       "      <td>750.0</td>\n",
       "      <td>82500.0</td>\n",
       "      <td>37125.0</td>\n",
       "      <td>In-store</td>\n",
       "      <td>2021</td>\n",
       "      <td>6</td>\n",
       "      <td>17</td>\n",
       "      <td>6534</td>\n",
       "    </tr>\n",
       "    <tr>\n",
       "      <th>6553</th>\n",
       "      <td>West Gear</td>\n",
       "      <td>1128299</td>\n",
       "      <td>South</td>\n",
       "      <td>Louisiana</td>\n",
       "      <td>New Orleans</td>\n",
       "      <td>Women's Apparel</td>\n",
       "      <td>110.0</td>\n",
       "      <td>750.0</td>\n",
       "      <td>82500.0</td>\n",
       "      <td>28875.0</td>\n",
       "      <td>Online</td>\n",
       "      <td>2021</td>\n",
       "      <td>6</td>\n",
       "      <td>17</td>\n",
       "      <td>6554</td>\n",
       "    </tr>\n",
       "    <tr>\n",
       "      <th>6691</th>\n",
       "      <td>Walmart</td>\n",
       "      <td>1128299</td>\n",
       "      <td>Southeast</td>\n",
       "      <td>Florida</td>\n",
       "      <td>Orlando</td>\n",
       "      <td>Men's Street Footwear</td>\n",
       "      <td>90.0</td>\n",
       "      <td>900.0</td>\n",
       "      <td>81000.0</td>\n",
       "      <td>24300.0</td>\n",
       "      <td>In-store</td>\n",
       "      <td>2021</td>\n",
       "      <td>7</td>\n",
       "      <td>16</td>\n",
       "      <td>6692</td>\n",
       "    </tr>\n",
       "    <tr>\n",
       "      <th>6550</th>\n",
       "      <td>West Gear</td>\n",
       "      <td>1128299</td>\n",
       "      <td>South</td>\n",
       "      <td>Louisiana</td>\n",
       "      <td>New Orleans</td>\n",
       "      <td>Men's Street Footwear</td>\n",
       "      <td>90.0</td>\n",
       "      <td>900.0</td>\n",
       "      <td>81000.0</td>\n",
       "      <td>32400.0</td>\n",
       "      <td>Online</td>\n",
       "      <td>2021</td>\n",
       "      <td>7</td>\n",
       "      <td>16</td>\n",
       "      <td>6551</td>\n",
       "    </tr>\n",
       "    <tr>\n",
       "      <th>6754</th>\n",
       "      <td>West Gear</td>\n",
       "      <td>1128299</td>\n",
       "      <td>South</td>\n",
       "      <td>Louisiana</td>\n",
       "      <td>New Orleans</td>\n",
       "      <td>Men's Street Footwear</td>\n",
       "      <td>95.0</td>\n",
       "      <td>850.0</td>\n",
       "      <td>80750.0</td>\n",
       "      <td>32300.0</td>\n",
       "      <td>Online</td>\n",
       "      <td>2021</td>\n",
       "      <td>8</td>\n",
       "      <td>17</td>\n",
       "      <td>6755</td>\n",
       "    </tr>\n",
       "    <tr>\n",
       "      <th>6745</th>\n",
       "      <td>Walmart</td>\n",
       "      <td>1128299</td>\n",
       "      <td>Southeast</td>\n",
       "      <td>Florida</td>\n",
       "      <td>Orlando</td>\n",
       "      <td>Men's Street Footwear</td>\n",
       "      <td>95.0</td>\n",
       "      <td>850.0</td>\n",
       "      <td>80750.0</td>\n",
       "      <td>24225.0</td>\n",
       "      <td>In-store</td>\n",
       "      <td>2021</td>\n",
       "      <td>8</td>\n",
       "      <td>17</td>\n",
       "      <td>6746</td>\n",
       "    </tr>\n",
       "    <tr>\n",
       "      <th>6539</th>\n",
       "      <td>Walmart</td>\n",
       "      <td>1185732</td>\n",
       "      <td>Northeast</td>\n",
       "      <td>New York</td>\n",
       "      <td>New York</td>\n",
       "      <td>Men's Street Footwear</td>\n",
       "      <td>65.0</td>\n",
       "      <td>1200.0</td>\n",
       "      <td>78000.0</td>\n",
       "      <td>39000.0</td>\n",
       "      <td>Outlet</td>\n",
       "      <td>2020</td>\n",
       "      <td>5</td>\n",
       "      <td>3</td>\n",
       "      <td>6540</td>\n",
       "    </tr>\n",
       "    <tr>\n",
       "      <th>6534</th>\n",
       "      <td>Foot Locker</td>\n",
       "      <td>1185732</td>\n",
       "      <td>Northeast</td>\n",
       "      <td>New York</td>\n",
       "      <td>New York</td>\n",
       "      <td>Men's Street Footwear</td>\n",
       "      <td>60.0</td>\n",
       "      <td>1275.0</td>\n",
       "      <td>76500.0</td>\n",
       "      <td>38250.0</td>\n",
       "      <td>Outlet</td>\n",
       "      <td>2020</td>\n",
       "      <td>3</td>\n",
       "      <td>10</td>\n",
       "      <td>6535</td>\n",
       "    </tr>\n",
       "    <tr>\n",
       "      <th>6545</th>\n",
       "      <td>Foot Locker</td>\n",
       "      <td>1185732</td>\n",
       "      <td>Southeast</td>\n",
       "      <td>South Carolina</td>\n",
       "      <td>Charleston</td>\n",
       "      <td>Men's Street Footwear</td>\n",
       "      <td>70.0</td>\n",
       "      <td>1075.0</td>\n",
       "      <td>75250.0</td>\n",
       "      <td>33863.0</td>\n",
       "      <td>Online</td>\n",
       "      <td>2021</td>\n",
       "      <td>12</td>\n",
       "      <td>5</td>\n",
       "      <td>6546</td>\n",
       "    </tr>\n",
       "    <tr>\n",
       "      <th>6535</th>\n",
       "      <td>Foot Locker</td>\n",
       "      <td>1185732</td>\n",
       "      <td>Northeast</td>\n",
       "      <td>New York</td>\n",
       "      <td>New York</td>\n",
       "      <td>Men's Street Footwear</td>\n",
       "      <td>60.0</td>\n",
       "      <td>1250.0</td>\n",
       "      <td>75000.0</td>\n",
       "      <td>37500.0</td>\n",
       "      <td>Outlet</td>\n",
       "      <td>2020</td>\n",
       "      <td>3</td>\n",
       "      <td>4</td>\n",
       "      <td>6536</td>\n",
       "    </tr>\n",
       "  </tbody>\n",
       "</table>\n",
       "</div>"
      ],
      "text/plain": [
       "         Retailer  Retailer ID     Region           State         City  \\\n",
       "6533      Walmart      1128299  Southeast         Florida      Orlando   \n",
       "6553    West Gear      1128299      South       Louisiana  New Orleans   \n",
       "6691      Walmart      1128299  Southeast         Florida      Orlando   \n",
       "6550    West Gear      1128299      South       Louisiana  New Orleans   \n",
       "6754    West Gear      1128299      South       Louisiana  New Orleans   \n",
       "6745      Walmart      1128299  Southeast         Florida      Orlando   \n",
       "6539      Walmart      1185732  Northeast        New York     New York   \n",
       "6534  Foot Locker      1185732  Northeast        New York     New York   \n",
       "6545  Foot Locker      1185732  Southeast  South Carolina   Charleston   \n",
       "6535  Foot Locker      1185732  Northeast        New York     New York   \n",
       "\n",
       "                    Product  Price per Unit  Units Sold  Total Sales  \\\n",
       "6533        Women's Apparel           110.0       750.0      82500.0   \n",
       "6553        Women's Apparel           110.0       750.0      82500.0   \n",
       "6691  Men's Street Footwear            90.0       900.0      81000.0   \n",
       "6550  Men's Street Footwear            90.0       900.0      81000.0   \n",
       "6754  Men's Street Footwear            95.0       850.0      80750.0   \n",
       "6745  Men's Street Footwear            95.0       850.0      80750.0   \n",
       "6539  Men's Street Footwear            65.0      1200.0      78000.0   \n",
       "6534  Men's Street Footwear            60.0      1275.0      76500.0   \n",
       "6545  Men's Street Footwear            70.0      1075.0      75250.0   \n",
       "6535  Men's Street Footwear            60.0      1250.0      75000.0   \n",
       "\n",
       "      Operating Profit Sales Method  year  month  day  order_ID  \n",
       "6533           37125.0     In-store  2021      6   17      6534  \n",
       "6553           28875.0       Online  2021      6   17      6554  \n",
       "6691           24300.0     In-store  2021      7   16      6692  \n",
       "6550           32400.0       Online  2021      7   16      6551  \n",
       "6754           32300.0       Online  2021      8   17      6755  \n",
       "6745           24225.0     In-store  2021      8   17      6746  \n",
       "6539           39000.0       Outlet  2020      5    3      6540  \n",
       "6534           38250.0       Outlet  2020      3   10      6535  \n",
       "6545           33863.0       Online  2021     12    5      6546  \n",
       "6535           37500.0       Outlet  2020      3    4      6536  "
      ]
     },
     "execution_count": 522,
     "metadata": {},
     "output_type": "execute_result"
    }
   ],
   "source": [
    "# Top 10 sales operations.\n",
    "df.sort_values(by='Total Sales', ascending=False).head(10)"
   ]
  },
  {
   "cell_type": "code",
   "execution_count": 523,
   "id": "78b650fc",
   "metadata": {},
   "outputs": [
    {
     "data": {
      "text/plain": [
       "Region\n",
       "Midwest       7255.254147\n",
       "Northeast     7841.955808\n",
       "South         8347.471611\n",
       "Southeast    13331.001634\n",
       "West         10998.621423\n",
       "Name: Total Sales, dtype: float64"
      ]
     },
     "execution_count": 523,
     "metadata": {},
     "output_type": "execute_result"
    }
   ],
   "source": [
    "# Average of sales for every Region.\n",
    "df.groupby('Region')['Total Sales'].mean()"
   ]
  },
  {
   "cell_type": "code",
   "execution_count": 524,
   "id": "35d7ccbe",
   "metadata": {},
   "outputs": [
    {
     "data": {
      "text/plain": [
       "Product\n",
       "Men's Apparel                 7657.827307\n",
       "Men's Athletic Footwear       9528.861940\n",
       "Men's Street Footwear        12970.601863\n",
       "Men's aparel                 54000.000000\n",
       "Women's Apparel              11106.353454\n",
       "Women's Athletic Footwear     6641.267913\n",
       "Women's Street Footwear       7951.860523\n",
       "Name: Total Sales, dtype: float64"
      ]
     },
     "execution_count": 524,
     "metadata": {},
     "output_type": "execute_result"
    }
   ],
   "source": [
    "# Average of sales for every product.\n",
    "df.groupby('Product')['Total Sales'].mean()"
   ]
  },
  {
   "cell_type": "code",
   "execution_count": 525,
   "id": "3901d46c",
   "metadata": {},
   "outputs": [
    {
     "data": {
      "text/plain": [
       "Product\n",
       "Men's Apparel                50.306733\n",
       "Men's Athletic Footwear      43.777985\n",
       "Men's Street Footwear        44.236646\n",
       "Men's aparel                 60.000000\n",
       "Women's Apparel              51.583074\n",
       "Women's Athletic Footwear    41.113396\n",
       "Women's Street Footwear      40.255915\n",
       "Name: Price per Unit, dtype: float64"
      ]
     },
     "execution_count": 525,
     "metadata": {},
     "output_type": "execute_result"
    }
   ],
   "source": [
    "# Average of price per unit for every product.\n",
    "\n",
    "df.groupby('Product')['Price per Unit'].mean()\n"
   ]
  },
  {
   "cell_type": "code",
   "execution_count": 526,
   "id": "1bbf7822",
   "metadata": {},
   "outputs": [
    {
     "data": {
      "text/plain": [
       "Product\n",
       "Men's Apparel                 95.0\n",
       "Men's Athletic Footwear       95.0\n",
       "Men's Street Footwear         95.0\n",
       "Men's aparel                  60.0\n",
       "Women's Apparel              110.0\n",
       "Women's Athletic Footwear     90.0\n",
       "Women's Street Footwear       95.0\n",
       "Name: Price per Unit, dtype: float64"
      ]
     },
     "execution_count": 526,
     "metadata": {},
     "output_type": "execute_result"
    }
   ],
   "source": [
    "# Max of price per unit for every product.\n",
    "df.groupby('Product')['Price per Unit'].max()\n"
   ]
  },
  {
   "cell_type": "code",
   "execution_count": 527,
   "id": "81c98203",
   "metadata": {},
   "outputs": [
    {
     "data": {
      "text/plain": [
       "Product\n",
       "Men's Apparel                16.0\n",
       "Men's Athletic Footwear      11.0\n",
       "Men's Street Footwear         7.0\n",
       "Men's aparel                 60.0\n",
       "Women's Apparel              14.0\n",
       "Women's Athletic Footwear     7.0\n",
       "Women's Street Footwear       7.0\n",
       "Name: Price per Unit, dtype: float64"
      ]
     },
     "execution_count": 527,
     "metadata": {},
     "output_type": "execute_result"
    }
   ],
   "source": [
    "# min of price per unit for every product.\n",
    "df.groupby('Product')['Price per Unit'].min()\n"
   ]
  },
  {
   "cell_type": "code",
   "execution_count": 528,
   "id": "20413df4",
   "metadata": {},
   "outputs": [
    {
     "data": {
      "text/plain": [
       "np.float64(9316.467897521004)"
      ]
     },
     "execution_count": 528,
     "metadata": {},
     "output_type": "execute_result"
    }
   ],
   "source": [
    "# Mean of sales\n",
    "Mean_of_price = df['Total Sales'].mean()\n",
    "Mean_of_price"
   ]
  },
  {
   "cell_type": "code",
   "execution_count": 529,
   "id": "d0e01709",
   "metadata": {},
   "outputs": [
    {
     "data": {
      "text/plain": [
       "Region     Product                  \n",
       "Midwest    Men's Apparel                47.144231\n",
       "           Men's Athletic Footwear      38.099678\n",
       "           Men's Street Footwear        41.810897\n",
       "           Women's Apparel              47.455128\n",
       "           Women's Athletic Footwear    34.527331\n",
       "           Women's Street Footwear      33.057878\n",
       "Northeast  Men's Apparel                52.450633\n",
       "           Men's Athletic Footwear      44.941919\n",
       "           Men's Street Footwear        48.727273\n",
       "           Men's aparel                 60.000000\n",
       "           Women's Apparel              52.388889\n",
       "           Women's Athletic Footwear    41.492424\n",
       "           Women's Street Footwear      40.128788\n",
       "South      Men's Apparel                42.798611\n",
       "           Men's Athletic Footwear      36.578397\n",
       "           Men's Street Footwear        35.263889\n",
       "           Women's Apparel              43.538194\n",
       "           Women's Athletic Footwear    36.635417\n",
       "           Women's Street Footwear      34.592334\n",
       "Southeast  Men's Apparel                55.392157\n",
       "           Men's Athletic Footwear      48.779412\n",
       "           Men's Street Footwear        48.573529\n",
       "           Women's Apparel              57.264706\n",
       "           Women's Athletic Footwear    46.000000\n",
       "           Women's Street Footwear      45.088235\n",
       "West       Men's Apparel                53.429630\n",
       "           Men's Athletic Footwear      49.512195\n",
       "           Men's Street Footwear        45.890244\n",
       "           Women's Apparel              56.808354\n",
       "           Women's Athletic Footwear    46.509852\n",
       "           Women's Street Footwear      47.433824\n",
       "Name: Price per Unit, dtype: float64"
      ]
     },
     "execution_count": 529,
     "metadata": {},
     "output_type": "execute_result"
    }
   ],
   "source": [
    "# Mean of price for each unit of product in each region.\n",
    "df.groupby(['Region','Product'])['Price per Unit'].mean()"
   ]
  },
  {
   "cell_type": "code",
   "execution_count": 530,
   "id": "43b34c89",
   "metadata": {},
   "outputs": [
    {
     "data": {
      "text/plain": [
       "Product\n",
       "Men's Street Footwear    20882669.0\n",
       "Name: Total Sales, dtype: float64"
      ]
     },
     "execution_count": 530,
     "metadata": {},
     "output_type": "execute_result"
    }
   ],
   "source": [
    "# What is the top Product with total sales.\n",
    "df.groupby('Product')['Total Sales'].sum().sort_values(ascending=False).head(1)"
   ]
  },
  {
   "cell_type": "code",
   "execution_count": 531,
   "id": "5df22564",
   "metadata": {},
   "outputs": [
    {
     "data": {
      "text/plain": [
       "Product\n",
       "Men's aparel    54000.0\n",
       "Name: Total Sales, dtype: float64"
      ]
     },
     "execution_count": 531,
     "metadata": {},
     "output_type": "execute_result"
    }
   ],
   "source": [
    "# What is the last Product with total sales.\n",
    "\n",
    "df.groupby('Product')['Total Sales'].sum().sort_values(ascending=True).head(1)"
   ]
  },
  {
   "cell_type": "code",
   "execution_count": 532,
   "id": "d6850cb9",
   "metadata": {},
   "outputs": [
    {
     "data": {
      "text/plain": [
       "Sales Method\n",
       "Online    4889\n",
       "Name: count, dtype: int64"
      ]
     },
     "execution_count": 532,
     "metadata": {},
     "output_type": "execute_result"
    }
   ],
   "source": [
    "# Which Sales Method is the most ?\n",
    "df['Sales Method'].value_counts().sort_values(ascending=False).head(1)"
   ]
  },
  {
   "cell_type": "code",
   "execution_count": 533,
   "id": "0bdcbfdb",
   "metadata": {},
   "outputs": [
    {
     "data": {
      "text/plain": [
       "Region     Sales Method\n",
       "Midwest    Online          1165\n",
       "West       Online          1152\n",
       "Northeast  Online           936\n",
       "West       Outlet           896\n",
       "South      Outlet           862\n",
       "Name: count, dtype: int64"
      ]
     },
     "execution_count": 533,
     "metadata": {},
     "output_type": "execute_result"
    }
   ],
   "source": [
    "# Which Sales Method is the most at every region ?\n",
    "df.groupby('Region')['Sales Method'].value_counts().sort_values(ascending=False).head()"
   ]
  },
  {
   "cell_type": "code",
   "execution_count": 534,
   "id": "d8eebeef",
   "metadata": {},
   "outputs": [
    {
     "data": {
      "text/plain": [
       "year\n",
       "2020    7\n",
       "2021    6\n",
       "Name: Product, dtype: int64"
      ]
     },
     "execution_count": 534,
     "metadata": {},
     "output_type": "execute_result"
    }
   ],
   "source": [
    "# How much products at every year?\n",
    "df.groupby('year')['Product'].nunique()"
   ]
  },
  {
   "cell_type": "code",
   "execution_count": 535,
   "id": "a37d0835",
   "metadata": {},
   "outputs": [
    {
     "data": {
      "text/plain": [
       "year\n",
       "2020    18093475.0\n",
       "2021    71726592.0\n",
       "Name: Total Sales, dtype: float64"
      ]
     },
     "execution_count": 535,
     "metadata": {},
     "output_type": "execute_result"
    }
   ],
   "source": [
    "# What about Sales over years?\n",
    "df.groupby('year')['Total Sales'].sum()"
   ]
  },
  {
   "cell_type": "code",
   "execution_count": 536,
   "id": "8971d8f9",
   "metadata": {},
   "outputs": [
    {
     "data": {
      "text/plain": [
       "year  month\n",
       "2020  1        1625381.0\n",
       "      2        1499801.0\n",
       "      3        1766062.0\n",
       "      4        2460705.0\n",
       "      5        1691806.0\n",
       "      6         882984.0\n",
       "      7        1690979.0\n",
       "      8        1952802.0\n",
       "      9        1830446.0\n",
       "      10       1083626.0\n",
       "      11        862229.0\n",
       "      12        746654.0\n",
       "2021  1        5486806.0\n",
       "      2        4610236.0\n",
       "      3        3914875.0\n",
       "      4        4773312.0\n",
       "      5        6358982.0\n",
       "      6        6571772.0\n",
       "      7        7833488.0\n",
       "      8        7228833.0\n",
       "      9        5935718.0\n",
       "      10       5307491.0\n",
       "      11       5923515.0\n",
       "      12       7781564.0\n",
       "Name: Total Sales, dtype: float64"
      ]
     },
     "execution_count": 536,
     "metadata": {},
     "output_type": "execute_result"
    }
   ],
   "source": [
    "# What about Sales over months?\n",
    "df.groupby(['year', 'month'])['Total Sales'].sum()"
   ]
  },
  {
   "cell_type": "code",
   "execution_count": 537,
   "id": "22372975",
   "metadata": {},
   "outputs": [
    {
     "data": {
      "text/plain": [
       "Retailer\n",
       "Foot Locker    2634\n",
       "Name: count, dtype: int64"
      ]
     },
     "execution_count": 537,
     "metadata": {},
     "output_type": "execute_result"
    }
   ],
   "source": [
    "# Which Retailer is the most ?\n",
    "df['Retailer'].value_counts().head(1)"
   ]
  }
 ],
 "metadata": {
  "kernelspec": {
   "display_name": "Python 3",
   "language": "python",
   "name": "python3"
  },
  "language_info": {
   "codemirror_mode": {
    "name": "ipython",
    "version": 3
   },
   "file_extension": ".py",
   "mimetype": "text/x-python",
   "name": "python",
   "nbconvert_exporter": "python",
   "pygments_lexer": "ipython3",
   "version": "3.11.1"
  }
 },
 "nbformat": 4,
 "nbformat_minor": 5
}

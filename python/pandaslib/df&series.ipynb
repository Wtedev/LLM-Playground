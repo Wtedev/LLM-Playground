{
 "cells": [
  {
   "cell_type": "code",
   "execution_count": 2,
   "id": "cbde7b9b",
   "metadata": {},
   "outputs": [],
   "source": [
    "import numpy as np\n",
    "import pandas as pd"
   ]
  },
  {
   "cell_type": "code",
   "execution_count": 3,
   "id": "2a88801f",
   "metadata": {},
   "outputs": [],
   "source": [
    "companies = {\n",
    "    'name' : ['Humain', 'OpenAI', 'Anthropic', 'Alibaba Cloud'],\n",
    "    'models' : ['Allam', ['GPT-4','GPT-5'], 'Claude', 'Tongyi Qianwen'],\n",
    "    'founded' : [2024, 2015, 2021, 2009],\n",
    "    'headquarters' : ['Riyadh', 'San Francisco', 'San Francisco', 'Hangzhou']\n",
    "}"
   ]
  },
  {
   "cell_type": "code",
   "execution_count": 4,
   "id": "965c87be",
   "metadata": {},
   "outputs": [
    {
     "data": {
      "text/html": [
       "<div>\n",
       "<style scoped>\n",
       "    .dataframe tbody tr th:only-of-type {\n",
       "        vertical-align: middle;\n",
       "    }\n",
       "\n",
       "    .dataframe tbody tr th {\n",
       "        vertical-align: top;\n",
       "    }\n",
       "\n",
       "    .dataframe thead th {\n",
       "        text-align: right;\n",
       "    }\n",
       "</style>\n",
       "<table border=\"1\" class=\"dataframe\">\n",
       "  <thead>\n",
       "    <tr style=\"text-align: right;\">\n",
       "      <th></th>\n",
       "      <th>name</th>\n",
       "      <th>models</th>\n",
       "      <th>founded</th>\n",
       "      <th>headquarters</th>\n",
       "    </tr>\n",
       "  </thead>\n",
       "  <tbody>\n",
       "    <tr>\n",
       "      <th>0</th>\n",
       "      <td>Humain</td>\n",
       "      <td>Allam</td>\n",
       "      <td>2024</td>\n",
       "      <td>Riyadh</td>\n",
       "    </tr>\n",
       "    <tr>\n",
       "      <th>1</th>\n",
       "      <td>OpenAI</td>\n",
       "      <td>[GPT-4, GPT-5]</td>\n",
       "      <td>2015</td>\n",
       "      <td>San Francisco</td>\n",
       "    </tr>\n",
       "    <tr>\n",
       "      <th>2</th>\n",
       "      <td>Anthropic</td>\n",
       "      <td>Claude</td>\n",
       "      <td>2021</td>\n",
       "      <td>San Francisco</td>\n",
       "    </tr>\n",
       "    <tr>\n",
       "      <th>3</th>\n",
       "      <td>Alibaba Cloud</td>\n",
       "      <td>Tongyi Qianwen</td>\n",
       "      <td>2009</td>\n",
       "      <td>Hangzhou</td>\n",
       "    </tr>\n",
       "  </tbody>\n",
       "</table>\n",
       "</div>"
      ],
      "text/plain": [
       "            name          models  founded   headquarters\n",
       "0         Humain           Allam     2024         Riyadh\n",
       "1         OpenAI  [GPT-4, GPT-5]     2015  San Francisco\n",
       "2      Anthropic          Claude     2021  San Francisco\n",
       "3  Alibaba Cloud  Tongyi Qianwen     2009       Hangzhou"
      ]
     },
     "execution_count": 4,
     "metadata": {},
     "output_type": "execute_result"
    }
   ],
   "source": [
    "pd.DataFrame(companies)"
   ]
  },
  {
   "cell_type": "code",
   "execution_count": 16,
   "id": "1259b708",
   "metadata": {},
   "outputs": [],
   "source": [
    "model = pd.Series(data=companies['models'],index=companies['name'])\n",
    "founded = pd.Series(data=companies['founded'],index=companies['name'])\n"
   ]
  },
  {
   "cell_type": "code",
   "execution_count": 17,
   "id": "0019f165",
   "metadata": {},
   "outputs": [
    {
     "data": {
      "text/plain": [
       "np.int64(2024)"
      ]
     },
     "execution_count": 17,
     "metadata": {},
     "output_type": "execute_result"
    }
   ],
   "source": [
    "founded['Humain']\n"
   ]
  },
  {
   "cell_type": "code",
   "execution_count": 19,
   "id": "33eea168",
   "metadata": {},
   "outputs": [
    {
     "data": {
      "text/plain": [
       "'Claude'"
      ]
     },
     "execution_count": 19,
     "metadata": {},
     "output_type": "execute_result"
    }
   ],
   "source": [
    "model['Anthropic']"
   ]
  },
  {
   "cell_type": "code",
   "execution_count": 22,
   "id": "189f7802",
   "metadata": {},
   "outputs": [],
   "source": [
    "companiesSeries = pd.Series(companies)"
   ]
  },
  {
   "cell_type": "code",
   "execution_count": 24,
   "id": "7a449010",
   "metadata": {},
   "outputs": [
    {
     "data": {
      "text/plain": [
       "name                  [Humain, OpenAI, Anthropic, Alibaba Cloud]\n",
       "models           [Allam, [GPT-4, GPT-5], Claude, Tongyi Qianwen]\n",
       "founded                                 [2024, 2015, 2021, 2009]\n",
       "headquarters    [Riyadh, San Francisco, San Francisco, Hangzhou]\n",
       "dtype: object"
      ]
     },
     "execution_count": 24,
     "metadata": {},
     "output_type": "execute_result"
    }
   ],
   "source": [
    "companiesSeries"
   ]
  },
  {
   "cell_type": "code",
   "execution_count": 25,
   "id": "edaeeaa8",
   "metadata": {},
   "outputs": [
    {
     "data": {
      "text/plain": [
       "['Allam', ['GPT-4', 'GPT-5'], 'Claude', 'Tongyi Qianwen']"
      ]
     },
     "execution_count": 25,
     "metadata": {},
     "output_type": "execute_result"
    }
   ],
   "source": [
    "companiesSeries['models']"
   ]
  }
 ],
 "metadata": {
  "kernelspec": {
   "display_name": "Python 3",
   "language": "python",
   "name": "python3"
  },
  "language_info": {
   "codemirror_mode": {
    "name": "ipython",
    "version": 3
   },
   "file_extension": ".py",
   "mimetype": "text/x-python",
   "name": "python",
   "nbconvert_exporter": "python",
   "pygments_lexer": "ipython3",
   "version": "3.11.1"
  }
 },
 "nbformat": 4,
 "nbformat_minor": 5
}

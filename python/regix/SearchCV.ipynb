{
 "cells": [
  {
   "cell_type": "code",
   "execution_count": 10,
   "id": "cdc1d9eb",
   "metadata": {},
   "outputs": [],
   "source": [
    "import re"
   ]
  },
  {
   "cell_type": "code",
   "execution_count": 11,
   "id": "2afa5f7c",
   "metadata": {},
   "outputs": [],
   "source": [
    "with open('../../Data/MayaCV.txt', 'r') as file:\n",
    "    CV = file.read()\n",
    "\n"
   ]
  },
  {
   "cell_type": "code",
   "execution_count": 12,
   "id": "88c2a021",
   "metadata": {},
   "outputs": [
    {
     "name": "stdout",
     "output_type": "stream",
     "text": [
      "['Name: Maya Karim (Full name: Maya Al-Karim)', 'Gender: Female', 'Nationality: Jordanian', 'City of Birth: Amman', 'Date of Birth: 1994-11-02 (also written as 02/11/1994)', 'Age: 30 years', 'National ID: 99887766', 'Passport No.: JX-4521789', 'Phone (Jordan): +962-79-555-2233 / 079 555 2233', 'Alt Phone: +962 (6) 580-1122 ext. 310', 'Email: maya.karim.engineer@example.com', 'Alt Email: m.karim.pro@fakemail.org', 'GitHub: https://github.com/maya-llm-pro', 'Portfolio: https://maya-rl.dev', 'LinkedIn: https://www.linkedin.com/in/maya-karim-llm', 'Address: Apt 7B, Noor Towers, King Abdullah II St, Amman 11118, Jordan', 'Professional Summary', 'Maya is a pragmatic LLM engineer and applied researcher who builds reliable RAG systems, evaluation toolchains, and operator-friendly agent workflows. She focuses on Arabic and English retrieval, document understanding, and production-ready ML infra. Maya values reproducibility, minimal latency, and explainability.', 'Core Skills', '• Large Language Models & Prompting (GPT-style, instruction-tuned models)', '• RAG: chunking strategies (150–600 tokens), metadata tagging, vector search pipelines', '• Tooling: LangChain, LlamaIndex, Haystack, FastAPI, Streamlit', '• Python (3.9–3.11), pandas, NumPy, PyTorch, Hugging Face transformers', '• VectorDBs: FAISS, Milvus, Chroma; Search: Elasticsearch', '• MLOps: Docker, Kubernetes (k8s), CI/CD, model packaging, monitoring', '• Testing & Evaluation: NDCG, recall@k, human-in-the-loop evals', '• Languages: Arabic (native), English (C2), French (B2)', 'Education', 'M.Sc. in Computer Science — University of Jordan', 'Start: Sep 2017 — Graduation: Jun 2019', 'Thesis: “Efficient Retrieval for Bilingual Legal Corpora” — defended 2019-05-28', 'B.Sc. in Software Engineering — Jordan University of Science & Technology', 'Start: 2013-09 — Graduation: 2017-06', 'GPA: 3.65/4.00', 'Experience', 'Senior LLM Engineer — NovaSearch AI (Remote)', 'Amman / Remote | 2023-01 — Present', '• Led a team of 4 engineers to deploy a multilingual RAG platform serving 120k daily queries.', '• Implemented embedding pipelines and reduced median retrieval latency from 210ms to 85ms.', '• Built a drift-detection hook and automatic reindexing pipeline (monthly).', 'Contact: hr@novasearch.ai | +962-6-700-4455', 'Applied Researcher — MiddleEast Labs', 'Amman | 2021-06 — 2022-12', '• Designed evaluation framework combining NDCG and human-annotated faithfulness checks.', '• Published internal report “Measuring Hallucinations in Low-Resource Languages” (2022-11).', 'Reference: research@melabs.jo', 'LLM Engineer (Intern) — CairoTech Solutions', 'Cairo | 2019-07 — 2020-02', '• Prototyped a legal-docs RAG demo; integrated OCR + chunking + vector DB PoC.', '• Demo increased stakeholder engagement by 40%.', 'Selected Projects', 'LexFind — Legal Document Assistant', '• Dates: 2022/10/01 — 2023/03/15', '• Features: OCR ingestion, section-level metadata, hierarchical re-ranking.', '• Repo: https://github.com/maya-llm-pro/lexfind', 'FieldAgent — Multi-tool Agent Platform', '• Dates: Sep 2023 — Dec 2023', '• Tools: web-search, file-reader, python-sandbox, calendar-access (mock).', '• Notes: sandboxed code execution + usage quotas per session.', 'MedAnswers — Health FAQ Assistant (Pilot)', '• Dates: 2021-03 — 2021-09', '• Achievements: reduced average response time from 4.8s to 2.1s; user satisfaction 87%.', 'Certifications', '• Hugging Face: Transformers Practitioner — Issued: 2021-08, ID: HF-TP-2211', '• DeepLearning.AI: Generative AI Specialization — Issued: 2022-04, CERT-GAI-4432', 'Publications & Talks', '• “Hybrid Retrieval for Bilingual Corpora” — Workshop Paper, ACL Workshop, 2022-07.', '• “Practical Evaluation for Production RAG” — MeetNL Tech Talk, 2023-11.', 'Volunteering', '• Code for Good — Mentor for university teams (2020–2022)', '• Women in AI — Workshop facilitator (2021, 2022)', 'Awards', '• Startup Sprint 2022 — Best Engineering Implementation (Team award)', '• University Research Grant 2018 — Student PI, “Cross-lingual retrieval” pilot', 'Technical Snapshot & Test Data (for regex practice)', '• Dates: 2024-09-20, 20/09/2024, Sep 20, 2024, 2024/9/20, 05-11-2019 14:05', '• Money: $2,450.00; JOD 175.50; EUR 99.99; USD 120', '• Percentages: 87%, 13.0%, 0.21', '• Order IDs & Codes: ORD-2024-4501, INV#C-772-19, TASK_00123', '• Postal Codes: 11118, 11564-002', '• Times: 09:15, 9:15 AM, 21:45, 14:05:33', '• Hashtags & Handles: #RAG #Eval @maya_llm_pro', '• File paths: /srv/app/.env, C:\\\\Users\\\\Maya\\\\projects\\\\cv_final.docx', '• Versions: v2.0.0, v1.3.2-rc1', '• UUIDs: b5c1f3a2-8d4a-4d90-b1a1-123e4567abcd', '• IPs (private/dev): 10.0.0.12, 192.168.100.5', 'Sample Identifiers & Misc', '• National ID: 99887766', '• Passport: JX-4521789', '• Phone variants in text: +962-79-555-2233, 0795552233, (079) 555-2233 ext.310', '• Emails in text: maya.karim.engineer@example.com, m.karim.pro@fakemail.org', '• URLs: https://github.com/maya-llm-pro, https://maya-rl.dev, http://dev.local:8080/dashboard', '']\n"
     ]
    }
   ],
   "source": [
    "print(CV.split('\\n'))"
   ]
  },
  {
   "cell_type": "code",
   "execution_count": 22,
   "id": "6d9d2bc9",
   "metadata": {},
   "outputs": [
    {
     "name": "stdout",
     "output_type": "stream",
     "text": [
      "Found 'LLM Engineer' in the CV:\n"
     ]
    }
   ],
   "source": [
    "# the company looks for specific roles ( Web Developer, LLM Engineer, Data Scientist)\n",
    "if re.search(r'Web Developer', CV):\n",
    "    print(\"Found 'Web Developer' in the CV:\")\n",
    "if re.search(r'LLM Engineer', CV):\n",
    "    print(\"Found 'LLM Engineer' in the CV:\")\n",
    "if re.search(r'Data Scientist', CV):\n",
    "    print(\"Found 'Data Scientist' in the CV:\")"
   ]
  },
  {
   "cell_type": "code",
   "execution_count": 101,
   "id": "4f4aaee5",
   "metadata": {},
   "outputs": [
    {
     "name": "stdout",
     "output_type": "stream",
     "text": [
      "the employee linkedin is  https://www.linkedin.com/in/maya-karim-llm\n",
      "the employee github is  ['https://github.com/maya-llm-pro', 'https://github.com/maya-llm-pro/lexfind', 'https://github.com/maya-llm-pro,']\n",
      "the all links in CV are  ['https://github.com/maya-llm-pro', 'https://maya-rl.dev', 'https://www.linkedin.com/in/maya-karim-llm', 'https://github.com/maya-llm-pro/lexfind', 'https://github.com/maya-llm-pro,', 'https://maya-rl.dev,']\n"
     ]
    }
   ],
   "source": [
    "# Check social media presence\n",
    "# linkedin\n",
    "if re.search(r'https://www.linkedin.com/in/\\S+', CV):\n",
    "    link = re.search(r'https://www.linkedin.com/in/\\S+', CV).group(0)\n",
    "    print (\"the employee linkedin is \", link )\n",
    "# github\n",
    "if re.search(r'https://github.com/\\S+', CV):\n",
    "    link = re.findall(r'https://github.com/\\S+', CV)\n",
    "    print (\"the employee github is \", link )\n",
    "# X platform (formerly Twitter)\n",
    "if re.search(r'https://x.com/\\S+', CV):\n",
    "    link = re.search(r'https://x.com/\\S+', CV).group(0)\n",
    "    print (\"the employee X platform is \", link)\n",
    "# All links\n",
    "if re.search(r'https://\\S+', CV):\n",
    "    all_links = re.findall(r'https://\\S+', CV)\n",
    "    print (\"the all links in CV are \", all_links)\n",
    "\n"
   ]
  },
  {
   "cell_type": "code",
   "execution_count": null,
   "id": "3ca6f856",
   "metadata": {},
   "outputs": [
    {
     "name": "stdout",
     "output_type": "stream",
     "text": [
      "The number is  +962-79-555-2233\n",
      "The emails are  ['maya.karim.engineer@example.com', 'm.karim.pro@fakemail.org', 'hr@novasearch.ai', 'research@melabs.jo', 'maya.karim.engineer@example.com,', 'm.karim.pro@fakemail.org']\n"
     ]
    }
   ],
   "source": [
    "# contact information\n",
    "if re.search(r'\\+9\\S+', CV):\n",
    "    phone = re.search(r'\\+9\\S+', CV).group(0)\n",
    "    print(\"The number is \", phone)\n",
    "if re.search(r'\\S+@\\S+\\.\\S+', CV):\n",
    "    Emails = re.findall(r'\\S+@\\S+\\.\\S+', CV)\n",
    "    print(\"The emails are \", Emails)\n"
   ]
  }
 ],
 "metadata": {
  "kernelspec": {
   "display_name": "Python 3",
   "language": "python",
   "name": "python3"
  },
  "language_info": {
   "codemirror_mode": {
    "name": "ipython",
    "version": 3
   },
   "file_extension": ".py",
   "mimetype": "text/x-python",
   "name": "python",
   "nbconvert_exporter": "python",
   "pygments_lexer": "ipython3",
   "version": "3.11.1"
  }
 },
 "nbformat": 4,
 "nbformat_minor": 5
}

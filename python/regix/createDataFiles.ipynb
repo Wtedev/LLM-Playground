{
 "cells": [
  {
   "cell_type": "code",
   "execution_count": 6,
   "id": "2a9082eb",
   "metadata": {},
   "outputs": [],
   "source": [
    "names = [\n",
    "\"Mohammed\",\"Sara\",\"Omar\",\"Layla\",\"Maya\",\"Adam\",\"Fatima\",\"Yusuf\",\"Nora\",\"Hassan\",\n",
    "\"Dina\",\"Ibrahim\",\"Rania\",\"Khalid\",\"Amira\",\"Ziad\",\"Lina\",\"Tariq\",\"Salma\",\"Rami\",\n",
    "\"Aisha\",\"Bassam\",\"Yara\",\"Fadi\",\"Mona\",\"Kareem\",\"Ruba\",\"Sami\",\"Noor\",\"Nawal\",\n",
    "\"Ahmad\",\"Yasmin\",\"Bilal\",\"Huda\",\"Rashid\",\"Nadine\",\"Samir\",\"Iman\",\"Younes\",\"Jamal\",\n",
    "\"Ruba\",\"Maha\",\"Yassin\",\"Lubna\",\"Zain\",\"Leila\",\"Samer\",\"Heba\",\"Firas\",\"Rana\",\n",
    "\"Talal\",\"Wafa\",\"Mazin\",\"Nabil\",\"Samaa\",\"Khalil\",\"May\",\"Nour\",\"Anas\",\"Yasira\",\n",
    "\"Humam\",\"Safa\",\"Kamal\",\"Rita\",\"Tala\",\"Othman\",\"Salim\",\"Ruba\",\"Laila\",\"Dalia\",\n",
    "\"Fahad\",\"Hala\",\"Yamen\",\"Nada\",\"Zainab\",\"Hussein\",\"Mariam\",\"Riad\",\"Isra\",\"Qasim\",\n",
    "\"Rida\",\"Fawzi\",\"Sahar\",\"Rasha\",\"Alaa\",\"Ghassan\",\"Nida\",\"Waleed\",\"Marwan\",\"Ghada\",\n",
    "\"Zein\",\"Rayan\",\"Taher\",\"Moneer\",\"Siham\",\"Yahya\",\"Rumana\",\"Nizar\",\"Sulaiman\",\"Lubna\",\n",
    "\"Ruba\",\"Hany\",\"Faten\",\"Ihsan\",\"Mariam\",\"Zayn\",\"Rafif\",\"Ilyas\",\"Ghina\",\"Zahra\",\n",
    "\"Riad\",\"Najwa\",\"Zaki\",\"Abeer\",\"Kinan\",\"Fadwa\",\"Adel\",\"Basma\",\"Qamar\",\"Yara\",\n",
    "\"Joud\",\"Marwa\",\"Amin\",\"Ameera\",\"Riyad\",\"Yassir\",\"Maysa\",\"Lamar\",\"Talib\",\"Saif\",\n",
    "\"Rayan\",\"Reem\",\"Zeinab\",\"Kenza\",\"Nourhan\",\"Mounir\",\"Sawsan\",\"Yahya\",\"Jenan\",\"Loubna\",\n",
    "\"Rida\",\"Sherif\",\"Widad\",\"Mahmoud\",\"Aya\",\"Basil\",\"Amani\",\"Haitham\",\"Yasmine\",\"Rula\",\n",
    "\"Munir\",\"Ruba\",\"Zahran\",\"Nouria\",\"Ibtisam\",\"Khaled\",\"Lina\",\"Hind\",\"Rami\",\"Rasha\",\n",
    "\"Bilqis\",\"Yousef\",\"Suhail\",\"Nahla\",\"Rafaa\",\"Munira\",\"Zohair\",\"Maya\",\"Hassan\",\n",
    "\"Raneem\",\"Amjad\",\"Safa\",\"Lulwa\",\"Tamer\",\"Wissam\",\"Dina\",\"Fawziya\",\"Rabih\",\"Sanaa\",\n",
    "\"Imad\",\"Sherine\",\"Nabilah\",\"Waleed\",\"Zakia\",\"Khadija\",\"Zein\",\"Rafiq\",\"Anwar\",\"Lujain\",\n",
    "\"Jaber\",\"Rim\",\"Hassan\",\"Samar\",\"Razan\",\"Omaru\",\"Salwa\",\"Fouad\",\"Naeem\",\"Haleem\",\n",
    "\"Zina\",\"Moudi\",\"Karam\",\"Layan\",\"Samer\",\"Rabeh\",\"Ali\",\"Samah\",\"Jonas\",\"Huda\",\"Marcus\",\n",
    "\"Aaliyah\",\"Nabil\",\"Sophia\",\"Othman\",\"Elias\",\n",
    "\"Kenza\",\"Farid\",\"Olivia\",\"Tamer\",\"David\",\"Abeer\",\"Layth\",\"Emily\",\"Hussein\",\"Noelle\",\n",
    "\"Khalifa\",\"Omarion\",\"Isabella\",\"Yazid\",\"George\",\"Noura\",\"Hakim\",\"Emma\",\"Jude\",\"Fatimah\",\n",
    "\"Karim\",\"Amelia\",\"Mustafa\",\"Charlotte\",\"Rashaad\",\"Ava\",\"Nahla\",\"Mason\",\"Amjad\",\"Ella\",\n",
    "\"Jad\",\"James\",\"Ramires\",\"Mila\",\"Anas\",\"Henry\",\"Ruqayya\",\"Grace\",\"Adnan\",\"Lucas\",\n",
    "\"Yara\",\"Ethan\",\"Samarra\",\"Isla\",\"Tariq\",\"Liam\",\"Lubna\",\"Sophia\",\"Majed\",\"Harper\",\n",
    "\"Nihal\",\"Daniel\",\"Samira\",\"Victoria\",\"Qasim\",\"Benjamin\",\"Zahraa\",\"Sofia\",\"Walid\",\"Chloe\",\n",
    "\"Iyad\",\"Alexander\",\"Dalal\",\"Hannah\",\"Rafik\",\"Samuel\",\"Zaina\",\"Madison\",\"Khaled\",\"Elijah\",\n",
    "\"Ayman\",\"Sebastian\",\"Nashwa\",\"Leah\",\"Fouad\",\"Christopher\",\"Reem\",\"Aria\",\"Ihab\",\"Matthew\",\n",
    "\"Shereen\",\"Scarlett\",\"Salem\",\"Jackson\",\"Arwa\",\"Ella\",\"Ramez\",\"Oliver\",\"Lina\",\"Maya\",\n",
    "\"Haitham\",\"Carter\",\"Imane\",\"Zoey\",\"Nasser\",\"Leo\",\"Widad\",\"Hazel\",\"Issa\",\"Mariam\",\n",
    "\"Bilal\",\"Zoe\",\"Rola\",\"Gabriel\",\"Ibtihal\",\"Abigail\",\"Sameer\",\"Sienna\",\"Ghazi\",\"Harvey\"]\n",
    "\n",
    "for name in names:\n",
    "    # save each name in a separate line in names.txt\n",
    "    with open('../../Data/names.txt', 'a') as file:\n",
    "        file.write(name + '\\n')\n",
    "\n"
   ]
  },
  {
   "cell_type": "code",
   "execution_count": 7,
   "id": "3251b481",
   "metadata": {},
   "outputs": [],
   "source": [
    "CustomersMessages = [\n",
    "    \"Hello, this is Mohammed Hassan. My order ORD-2025-4501 arrived with a cracked screen. Phone: +966-55-987-4433, email: mohammed.ali@example.com. National ID 2233445566. Location: Al-Olaya, King Fahd St, Riyadh. Please advise.\",\n",
    "    \"Got charged twice for subscription SUB-9987. I spoke with an agent who wasn’t helpful. Reach me at 079-555-2233 or sara.khalil123@fakemail.org. Name: Sara Nabil. Address: Apt 7B, Noor Towers, Amman 11118. Invoice link: https://billing.example.com/invoice/9987. Time 14:05:33.\",\n",
    "    \"Delivery never showed for booking BOOK-3301. Still waiting since 2025/08/21. Office number is +962 (6) 700-4455. Email: o.yousef@novasearch.ai. Location: Downtown, Amman. Passport JX-4521789.\",\n",
    "    \"Wrong medication pack received today; I need a replacement. Name: Layla Ziad. Phone 010-2345-6789. Address: 12 Nile St, 3rd Floor, Cairo 11564. Booking TASK_00123. Card last4: 4242. Reported 1990-04-15 as DOB during the call.\",\n",
    "    \"App login keeps failing after password reset. I’m seeing error at 09:15 AM. You can reply to maya.k.engineer@sample.dev. Based in Jeddah, Al-Balad. Device UUID b5c1f3a2-8d4a-4d90-b1a1-123e4567abcd. (Name mentioned earlier on file: Maya Adam).\",\n",
    "    \"I was charged a late fee for a return I never made. Adam Khalid here. Contact: +1-202-555-0123. Order RMA-5566, dated 11-05-2024. Address: 45 Elm St, Apt 2, London, SW1A 1AA. National ID: 6677889900.\",\n",
    "    \"Account got locked suddenly and I cannot verify. Email: fatima.z@example.com, phone 059-888-3344. Ticket TKT-2025-778 → http://support.example.com/ticket/TKT-2025-778. Passport FZ-998877. Name on record: Fatima Yusuf. Location: Dubai Marina.\",\n",
    "    \"Warranty confusion: store said my device isn’t covered. Yusuf Rami reporting. DOB 1986/07/19. Call me at +971-50-123-4567. Address: Villa 14, Palm Jumeirah, Dubai. Warranty ref WTY-88-2024.\",\n",
    "    \"Our project files were deleted by mistake and I need recovery ASAP. Phone 06-420-7788 ext. 204, email nora.saleh@demo.org. Project ID PRJ-7782. Backup UUID 9a7b6c5d-0000-4e11-aaaa-abcdef123456. (Nora Zain). Location: Rabat, Morocco.\",\n",
    "    \"Received a counterfeit item and the store refused a refund. hassan.farouk@mockmail.net is my email; call +20 122 345 6789. Order ORD-2025-9999. Shipping site: 3rd Zone Warehouse, Alexandria. Reported time 21:45, 2025-07-30. IP 192.168.100.5 (screenshot). Name: Hassan Omar.\"\n",
    "]\n",
    "\n",
    "for message in CustomersMessages:\n",
    "    with open('../../Data/CustomerMessages.txt', 'a') as file:\n",
    "        file.write(message + '\\n')"
   ]
  }
 ],
 "metadata": {
  "kernelspec": {
   "display_name": "Python 3",
   "language": "python",
   "name": "python3"
  },
  "language_info": {
   "codemirror_mode": {
    "name": "ipython",
    "version": 3
   },
   "file_extension": ".py",
   "mimetype": "text/x-python",
   "name": "python",
   "nbconvert_exporter": "python",
   "pygments_lexer": "ipython3",
   "version": "3.11.1"
  }
 },
 "nbformat": 4,
 "nbformat_minor": 5
}

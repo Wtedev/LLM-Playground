{
 "cells": [
  {
   "cell_type": "code",
   "execution_count": 68,
   "id": "735ebb58",
   "metadata": {},
   "outputs": [],
   "source": [
    "import re\n"
   ]
  },
  {
   "cell_type": "code",
   "execution_count": 69,
   "id": "52f9bd3c",
   "metadata": {},
   "outputs": [
    {
     "name": "stdout",
     "output_type": "stream",
     "text": [
      "Got charged twice for subscription SUB-9987. I spoke with an agent who wasn’t helpful. Reach me at 079-555-2233 or sara.khalil123@fakemail.org. Name: Sara Nabil. Address: Apt 7B, Noor Towers, Amman 11118. Invoice link: https://billing.example.com/invoice/9987. Time 14:05:33.\n"
     ]
    }
   ],
   "source": [
    "with open('../../Data/names.txt', 'r') as file:\n",
    "    names = file.readlines()\n",
    "    names = [name.strip() for name in names]\n",
    "\n",
    "with open('../../Data/customerMessages.txt', 'r') as file:\n",
    "    CustomersMessages = file.readlines()\n",
    "    CustomersMessages = [msg.strip() for msg in CustomersMessages]\n",
    "\n",
    "# print first message\n",
    "print(CustomersMessages[1])"
   ]
  },
  {
   "cell_type": "code",
   "execution_count": 70,
   "id": "4afdc6dc",
   "metadata": {},
   "outputs": [
    {
     "name": "stdout",
     "output_type": "stream",
     "text": [
      "Got charged twice for subscription SUB-9987. I spoke with an agent who wasn’t helpful. Reach me at 079-555-2233 or sara.khalil123@fakemail.org. Name: ~HIDDEN NAME~ ~HIDDEN NAME~. Address: Apt 7B, ~HIDDEN NAME~ Towers, Amman 11118. Invoice link: https://billing.example.com/invoice/9987. Time 14:05:33.\n"
     ]
    }
   ],
   "source": [
    "# hide names in messages\n",
    "for name in names:\n",
    "    pattern = r'\\b' + re.escape(name) + r'\\b'\n",
    "    replacement = \"~HIDDEN NAME~\"\n",
    "    CustomersMessages = [re.sub(pattern, replacement, msg) for msg in CustomersMessages]\n",
    "\n",
    "print(CustomersMessages[1])"
   ]
  },
  {
   "cell_type": "code",
   "execution_count": 76,
   "id": "a0acdb9f",
   "metadata": {},
   "outputs": [
    {
     "data": {
      "text/plain": [
       "'Got charged twice for subscription SUB-9987. I spoke with an agent who wasn’t helpful. Reach me at ~HIDDEN PHONE~ or sara.khalil123@fakemail.org. Name: ~HIDDEN NAME~ ~HIDDEN NAME~. Address: Apt 7B, ~HIDDEN NAME~ Towers, Amman 11118. Invoice link: https://billing.example.com/invoice/9987. Time 14:05:33.'"
      ]
     },
     "execution_count": 76,
     "metadata": {},
     "output_type": "execute_result"
    }
   ],
   "source": [
    "# hide  phone numbers\n",
    "pattern_phone = r'\\+\\S+'\n",
    "replacement_phone = \"~HIDDEN PHONE~\"\n",
    "CustomersMessages = [re.sub(pattern_phone, replacement_phone, msg) for msg in CustomersMessages]\n",
    "\n",
    "CustomersMessages[1]"
   ]
  },
  {
   "cell_type": "code",
   "execution_count": 77,
   "id": "28bd7430",
   "metadata": {},
   "outputs": [
    {
     "data": {
      "text/plain": [
       "'Got charged twice for subscription SUB-9987. I spoke with an agent who wasn’t helpful. Reach me at ~HIDDEN PHONE~ or ~HIDDEN EMAIL~ Name: ~HIDDEN NAME~ ~HIDDEN NAME~. Address: Apt 7B, ~HIDDEN NAME~ Towers, Amman 11118. Invoice link: https://billing.example.com/invoice/9987. Time 14:05:33.'"
      ]
     },
     "execution_count": 77,
     "metadata": {},
     "output_type": "execute_result"
    }
   ],
   "source": [
    "# hide Emails\n",
    "pattern_email = r'\\S+@\\S+\\.\\S+'\n",
    "replacement_email = \"~HIDDEN EMAIL~\"\n",
    "CustomersMessages = [re.sub(pattern_email, replacement_email, msg) for msg in CustomersMessages]\n",
    "\n",
    "CustomersMessages[1]"
   ]
  },
  {
   "cell_type": "code",
   "execution_count": 79,
   "id": "49af7858",
   "metadata": {},
   "outputs": [
    {
     "data": {
      "text/plain": [
       "'Got charged twice for subscription SUB-9987. I spoke with an agent who wasn’t helpful. Reach me at ~HIDDEN PHONE~ or ~HIDDEN EMAIL~ Name: ~HIDDEN NAME~ ~HIDDEN NAME~. Address: Apt 7B, ~HIDDEN NAME~ Towers, Amman 11118. Invoice link: ~HIDDEN LINK~ Time 14:05:33.'"
      ]
     },
     "execution_count": 79,
     "metadata": {},
     "output_type": "execute_result"
    }
   ],
   "source": [
    "# hide links\n",
    "pattern_link = r'http\\S+|www\\.\\S+'\n",
    "replacement_link = \"~HIDDEN LINK~\"\n",
    "CustomersMessages = [re.sub(pattern_link, replacement_link, msg) for msg in CustomersMessages]\n",
    "\n",
    "CustomersMessages[1]"
   ]
  }
 ],
 "metadata": {
  "kernelspec": {
   "display_name": "Python 3",
   "language": "python",
   "name": "python3"
  },
  "language_info": {
   "codemirror_mode": {
    "name": "ipython",
    "version": 3
   },
   "file_extension": ".py",
   "mimetype": "text/x-python",
   "name": "python",
   "nbconvert_exporter": "python",
   "pygments_lexer": "ipython3",
   "version": "3.11.1"
  }
 },
 "nbformat": 4,
 "nbformat_minor": 5
}
